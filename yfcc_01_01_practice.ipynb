{
  "nbformat": 4,
  "nbformat_minor": 0,
  "metadata": {
    "colab": {
      "name": "yfcc_01_01_practice.ipynb",
      "provenance": [],
      "collapsed_sections": [],
      "authorship_tag": "ABX9TyP9Oqjj5KFt0xwPbaE9Zo6M",
      "include_colab_link": true
    },
    "kernelspec": {
      "name": "python3",
      "display_name": "Python 3"
    }
  },
  "cells": [
    {
      "cell_type": "markdown",
      "metadata": {
        "id": "view-in-github",
        "colab_type": "text"
      },
      "source": [
        "<a href=\"https://colab.research.google.com/github/arunsprasad/yfcc_tensorflow_beginners/blob/master/yfcc_01_01_practice.ipynb\" target=\"_parent\"><img src=\"https://colab.research.google.com/assets/colab-badge.svg\" alt=\"Open In Colab\"/></a>"
      ]
    },
    {
      "cell_type": "code",
      "metadata": {
        "id": "QCJSdDKft77R",
        "colab_type": "code",
        "outputId": "e4547c35-29de-4b38-ba43-b653d5bb58ff",
        "colab": {
          "base_uri": "https://localhost:8080/",
          "height": 51
        }
      },
      "source": [
        "%tensorflow_version 2.x\n",
        "import tensorflow as tf\n",
        "print(tf.version)\n",
        "print(tf.__version__)"
      ],
      "execution_count": 1,
      "outputs": [
        {
          "output_type": "stream",
          "text": [
            "<module 'tensorflow._api.v2.version' from '/usr/local/lib/python3.6/dist-packages/tensorflow/_api/v2/version/__init__.py'>\n",
            "2.2.0\n"
          ],
          "name": "stdout"
        }
      ]
    },
    {
      "cell_type": "markdown",
      "metadata": {
        "id": "F02a3D58jnmh",
        "colab_type": "text"
      },
      "source": [
        "\n",
        "\n",
        "\n",
        "***Variables:***"
      ]
    },
    {
      "cell_type": "code",
      "metadata": {
        "id": "TwW75JdljKIh",
        "colab_type": "code",
        "outputId": "852aae00-2e3b-40ad-dffc-1e3ad699ef3f",
        "colab": {
          "base_uri": "https://localhost:8080/",
          "height": 136
        }
      },
      "source": [
        "string = tf.Variable(\"string variable\", tf.string)\n",
        "number = tf.Variable(324, tf.int16)\n",
        "floating = tf.Variable(50.568, tf.float64)\n",
        "print(tf.rank(string))\n",
        "print(tf.rank(number))\n",
        "print(tf.rank(floating))\n",
        "print('-'*60)\n",
        "\n",
        "rank1_tensor = tf.Variable([\"Test\"], tf.string)\n",
        "rank2_tensor = tf.Variable([[\"test11\", \"test12\"], [\"test21\", \"test22\"]])\n",
        "print('rank1_tensor: ', tf.rank(rank1_tensor))\n",
        "print('rank2_tensor: ', tf.rank(rank2_tensor))\n",
        "print('rank2_tensor shape: ', rank2_tensor.shape)\n"
      ],
      "execution_count": 2,
      "outputs": [
        {
          "output_type": "stream",
          "text": [
            "tf.Tensor(0, shape=(), dtype=int32)\n",
            "tf.Tensor(0, shape=(), dtype=int32)\n",
            "tf.Tensor(0, shape=(), dtype=int32)\n",
            "------------------------------------------------------------\n",
            "rank1_tensor:  tf.Tensor(1, shape=(), dtype=int32)\n",
            "rank2_tensor:  tf.Tensor(2, shape=(), dtype=int32)\n",
            "rank2_tensor shape:  (2, 2)\n"
          ],
          "name": "stdout"
        }
      ]
    },
    {
      "cell_type": "markdown",
      "metadata": {
        "id": "wDenpOHWjcop",
        "colab_type": "text"
      },
      "source": [
        "\n",
        "\n",
        "***Matrix:***"
      ]
    },
    {
      "cell_type": "code",
      "metadata": {
        "id": "O_PWUcCiijlx",
        "colab_type": "code",
        "colab": {
          "base_uri": "https://localhost:8080/",
          "height": 272
        },
        "outputId": "6ff4cbb1-884a-496c-b37f-5ab7111ec045"
      },
      "source": [
        "tensor1 = tf.ones([1, 2, 3])\n",
        "tensor2 = tf.reshape(tensor1, [2, 3, 1])\n",
        "tensor3 = tf.reshape(tensor2, [3, -1])\n",
        "\n",
        "print(tensor1)\n",
        "print(tensor2)\n",
        "print(tensor3)"
      ],
      "execution_count": 3,
      "outputs": [
        {
          "output_type": "stream",
          "text": [
            "tf.Tensor(\n",
            "[[[1. 1. 1.]\n",
            "  [1. 1. 1.]]], shape=(1, 2, 3), dtype=float32)\n",
            "tf.Tensor(\n",
            "[[[1.]\n",
            "  [1.]\n",
            "  [1.]]\n",
            "\n",
            " [[1.]\n",
            "  [1.]\n",
            "  [1.]]], shape=(2, 3, 1), dtype=float32)\n",
            "tf.Tensor(\n",
            "[[1. 1.]\n",
            " [1. 1.]\n",
            " [1. 1.]], shape=(3, 2), dtype=float32)\n"
          ],
          "name": "stdout"
        }
      ]
    },
    {
      "cell_type": "markdown",
      "metadata": {
        "id": "AEZoncYcjwVQ",
        "colab_type": "text"
      },
      "source": [
        "\n",
        "\n",
        "\n",
        "***Matrix Slicing:***"
      ]
    },
    {
      "cell_type": "code",
      "metadata": {
        "id": "OF-Zli9Ij2Ey",
        "colab_type": "code",
        "colab": {
          "base_uri": "https://localhost:8080/",
          "height": 170
        },
        "outputId": "6258293e-52e7-4594-dc80-7213d16d47b8"
      },
      "source": [
        "# Creating a 2D tensor\n",
        "matrix = [[1,2,3,4,5],\n",
        "          [6,7,8,9,10],\n",
        "          [11,12,13,14,15],\n",
        "          [16,17,18,19,20]]\n",
        "\n",
        "tensor_matrix = tf.Variable(matrix, dtype=tf.int32)\n",
        "print(tf.rank(tensor_matrix))\n",
        "print(tensor_matrix.shape)\n",
        "\n",
        "print('='*20+'slicing'+'='*20)\n",
        "print(tensor_matrix[0,2])\n",
        "print(tensor_matrix[0])\n",
        "print(tensor_matrix[:,0])\n",
        "print(tensor_matrix[1::2]) # selects second and fourth row , :: from 1st row every 2nd row will be returned"
      ],
      "execution_count": 12,
      "outputs": [
        {
          "output_type": "stream",
          "text": [
            "tf.Tensor(2, shape=(), dtype=int32)\n",
            "(4, 5)\n",
            "====================slicing====================\n",
            "tf.Tensor(3, shape=(), dtype=int32)\n",
            "tf.Tensor([1 2 3 4 5], shape=(5,), dtype=int32)\n",
            "tf.Tensor([ 1  6 11 16], shape=(4,), dtype=int32)\n",
            "tf.Tensor(\n",
            "[[ 6  7  8  9 10]\n",
            " [16 17 18 19 20]], shape=(2, 5), dtype=int32)\n"
          ],
          "name": "stdout"
        }
      ]
    },
    {
      "cell_type": "code",
      "metadata": {
        "id": "IdjYHvEDl3p5",
        "colab_type": "code",
        "colab": {}
      },
      "source": [
        ""
      ],
      "execution_count": 0,
      "outputs": []
    }
  ]
}