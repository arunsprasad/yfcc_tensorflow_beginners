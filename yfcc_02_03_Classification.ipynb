{
  "nbformat": 4,
  "nbformat_minor": 0,
  "metadata": {
    "colab": {
      "name": "yfcc_02_03_Classification.ipynb",
      "provenance": [],
      "collapsed_sections": [],
      "authorship_tag": "ABX9TyOFn4Npy2jHGpsqa++w2eTi",
      "include_colab_link": true
    },
    "kernelspec": {
      "name": "python3",
      "display_name": "Python 3"
    }
  },
  "cells": [
    {
      "cell_type": "markdown",
      "metadata": {
        "id": "view-in-github",
        "colab_type": "text"
      },
      "source": [
        "<a href=\"https://colab.research.google.com/github/arunsprasad/yfcc_tensorflow_beginners/blob/master/yfcc_02_03_Classification.ipynb\" target=\"_parent\"><img src=\"https://colab.research.google.com/assets/colab-badge.svg\" alt=\"Open In Colab\"/></a>"
      ]
    },
    {
      "cell_type": "code",
      "metadata": {
        "id": "55vFBJlOOrwf",
        "colab_type": "code",
        "colab": {}
      },
      "source": [
        "%tensorflow_version 2.x\n",
        "from __future__ import absolute_import, division, print_function, unicode_literals\n",
        "import tensorflow as tf\n",
        "import pandas as pd"
      ],
      "execution_count": 0,
      "outputs": []
    },
    {
      "cell_type": "code",
      "metadata": {
        "id": "hyEHFDF6O6-J",
        "colab_type": "code",
        "outputId": "f72abf1a-32ab-4298-87c1-ee4c869d7993",
        "colab": {
          "base_uri": "https://localhost:8080/",
          "height": 306
        }
      },
      "source": [
        "CSV_COLUMN_NAMES = ['SepalLength', 'SepalWidth', 'PetalLength', 'PetalWidth', 'Species']\n",
        "SPECIES = ['Setosa', 'Versicolor', 'Virginica']\n",
        "\n",
        "train_path = tf.keras.utils.get_file(\"iris_training.csv\", \"https://storage.googleapis.com/download.tensorflow.org/data/iris_training.csv\")\n",
        "test_path = tf.keras.utils.get_file(\"iris_test.csv\", \"https://storage.googleapis.com/download.tensorflow.org/data/iris_test.csv\")\n",
        "\n",
        "train = pd.read_csv(train_path, names=CSV_COLUMN_NAMES, header=0)\n",
        "test = pd.read_csv(test_path, names=CSV_COLUMN_NAMES, header=0)\n",
        "train_y = train.pop('Species')\n",
        "test_y = test.pop('Species')\n",
        "print(train.head())\n",
        "print(train_y.head())\n",
        "\n",
        "# Input Function:\n",
        "# ==============\n",
        "def input_fn(features, labels, training=True, batch_size=256):\n",
        "  dataset = tf.data.Dataset.from_tensor_slices((dict(features), labels))\n",
        "  if training:\n",
        "    dataset = dataset.shuffle(1000).repeat()\n",
        "  return dataset.batch(batch_size)"
      ],
      "execution_count": 2,
      "outputs": [
        {
          "output_type": "stream",
          "text": [
            "Downloading data from https://storage.googleapis.com/download.tensorflow.org/data/iris_training.csv\n",
            "8192/2194 [================================================================================================================] - 0s 0us/step\n",
            "Downloading data from https://storage.googleapis.com/download.tensorflow.org/data/iris_test.csv\n",
            "8192/573 [============================================================================================================================================================================================================================================================================================================================================================================================================================================] - 0s 0us/step\n",
            "   SepalLength  SepalWidth  PetalLength  PetalWidth\n",
            "0          6.4         2.8          5.6         2.2\n",
            "1          5.0         2.3          3.3         1.0\n",
            "2          4.9         2.5          4.5         1.7\n",
            "3          4.9         3.1          1.5         0.1\n",
            "4          5.7         3.8          1.7         0.3\n",
            "0    2\n",
            "1    1\n",
            "2    2\n",
            "3    0\n",
            "4    0\n",
            "Name: Species, dtype: int64\n"
          ],
          "name": "stdout"
        }
      ]
    },
    {
      "cell_type": "code",
      "metadata": {
        "id": "H2aOqTmNRCRD",
        "colab_type": "code",
        "outputId": "732fc084-9b17-4ef0-a0e8-17cf2e727098",
        "colab": {
          "base_uri": "https://localhost:8080/",
          "height": 1000
        }
      },
      "source": [
        "# Feature Columns:\n",
        "# ================\n",
        "my_feature_columns = []\n",
        "for key in train.keys():\n",
        "  my_feature_columns.append(tf.feature_column.numeric_column(key=key))\n",
        "print(my_feature_columns)\n",
        "\n",
        "# Build a DNN with 2 hidden layers with 30 and 10 hidden nodes each\n",
        "classifier = tf.estimator.DNNClassifier(feature_columns=my_feature_columns, \n",
        "                                        hidden_units=[30, 10], \n",
        "                                        n_classes=3)\n",
        "\n",
        "# Training the Model:\n",
        "# ===================\n",
        "classifier.train(\n",
        "    input_fn=lambda: input_fn(train, train_y, training=True),\n",
        "    steps=5000)"
      ],
      "execution_count": 3,
      "outputs": [
        {
          "output_type": "stream",
          "text": [
            "[NumericColumn(key='SepalLength', shape=(1,), default_value=None, dtype=tf.float32, normalizer_fn=None), NumericColumn(key='SepalWidth', shape=(1,), default_value=None, dtype=tf.float32, normalizer_fn=None), NumericColumn(key='PetalLength', shape=(1,), default_value=None, dtype=tf.float32, normalizer_fn=None), NumericColumn(key='PetalWidth', shape=(1,), default_value=None, dtype=tf.float32, normalizer_fn=None)]\n",
            "INFO:tensorflow:Using default config.\n",
            "WARNING:tensorflow:Using temporary folder as model directory: /tmp/tmpgn0l4gaw\n",
            "INFO:tensorflow:Using config: {'_model_dir': '/tmp/tmpgn0l4gaw', '_tf_random_seed': None, '_save_summary_steps': 100, '_save_checkpoints_steps': None, '_save_checkpoints_secs': 600, '_session_config': allow_soft_placement: true\n",
            "graph_options {\n",
            "  rewrite_options {\n",
            "    meta_optimizer_iterations: ONE\n",
            "  }\n",
            "}\n",
            ", '_keep_checkpoint_max': 5, '_keep_checkpoint_every_n_hours': 10000, '_log_step_count_steps': 100, '_train_distribute': None, '_device_fn': None, '_protocol': None, '_eval_distribute': None, '_experimental_distribute': None, '_experimental_max_worker_delay_secs': None, '_session_creation_timeout_secs': 7200, '_service': None, '_cluster_spec': ClusterSpec({}), '_task_type': 'worker', '_task_id': 0, '_global_id_in_cluster': 0, '_master': '', '_evaluation_master': '', '_is_chief': True, '_num_ps_replicas': 0, '_num_worker_replicas': 1}\n",
            "WARNING:tensorflow:From /usr/local/lib/python3.6/dist-packages/tensorflow/python/ops/resource_variable_ops.py:1666: calling BaseResourceVariable.__init__ (from tensorflow.python.ops.resource_variable_ops) with constraint is deprecated and will be removed in a future version.\n",
            "Instructions for updating:\n",
            "If using Keras pass *_constraint arguments to layers.\n",
            "WARNING:tensorflow:From /usr/local/lib/python3.6/dist-packages/tensorflow/python/training/training_util.py:236: Variable.initialized_value (from tensorflow.python.ops.variables) is deprecated and will be removed in a future version.\n",
            "Instructions for updating:\n",
            "Use Variable.read_value. Variables in 2.X are initialized automatically both in eager and graph (inside tf.defun) contexts.\n",
            "INFO:tensorflow:Calling model_fn.\n",
            "WARNING:tensorflow:Layer dnn is casting an input tensor from dtype float64 to the layer's dtype of float32, which is new behavior in TensorFlow 2.  The layer has dtype float32 because it's dtype defaults to floatx.\n",
            "\n",
            "If you intended to run this layer in float32, you can safely ignore this warning. If in doubt, this warning is likely only an issue if you are porting a TensorFlow 1.X model to TensorFlow 2.\n",
            "\n",
            "To change all layers to have dtype float64 by default, call `tf.keras.backend.set_floatx('float64')`. To change just this layer, pass dtype='float64' to the layer constructor. If you are the author of this layer, you can disable autocasting by passing autocast=False to the base Layer constructor.\n",
            "\n",
            "WARNING:tensorflow:From /usr/local/lib/python3.6/dist-packages/tensorflow/python/keras/optimizer_v2/adagrad.py:106: calling Constant.__init__ (from tensorflow.python.ops.init_ops) with dtype is deprecated and will be removed in a future version.\n",
            "Instructions for updating:\n",
            "Call initializer instance with the dtype argument instead of passing it to the constructor\n",
            "INFO:tensorflow:Done calling model_fn.\n",
            "INFO:tensorflow:Create CheckpointSaverHook.\n",
            "INFO:tensorflow:Graph was finalized.\n",
            "INFO:tensorflow:Running local_init_op.\n",
            "INFO:tensorflow:Done running local_init_op.\n",
            "INFO:tensorflow:Calling checkpoint listeners before saving checkpoint 0...\n",
            "INFO:tensorflow:Saving checkpoints for 0 into /tmp/tmpgn0l4gaw/model.ckpt.\n",
            "INFO:tensorflow:Calling checkpoint listeners after saving checkpoint 0...\n",
            "INFO:tensorflow:loss = 1.5693657, step = 0\n",
            "INFO:tensorflow:global_step/sec: 444.092\n",
            "INFO:tensorflow:loss = 1.2227155, step = 100 (0.227 sec)\n",
            "INFO:tensorflow:global_step/sec: 528.372\n",
            "INFO:tensorflow:loss = 1.1247566, step = 200 (0.192 sec)\n",
            "INFO:tensorflow:global_step/sec: 481.99\n",
            "INFO:tensorflow:loss = 1.0634587, step = 300 (0.205 sec)\n",
            "INFO:tensorflow:global_step/sec: 367.577\n",
            "INFO:tensorflow:loss = 1.020515, step = 400 (0.276 sec)\n",
            "INFO:tensorflow:global_step/sec: 443.157\n",
            "INFO:tensorflow:loss = 0.97466934, step = 500 (0.221 sec)\n",
            "INFO:tensorflow:global_step/sec: 492.481\n",
            "INFO:tensorflow:loss = 0.94639015, step = 600 (0.204 sec)\n",
            "INFO:tensorflow:global_step/sec: 492.279\n",
            "INFO:tensorflow:loss = 0.92615855, step = 700 (0.205 sec)\n",
            "INFO:tensorflow:global_step/sec: 508.715\n",
            "INFO:tensorflow:loss = 0.8968792, step = 800 (0.198 sec)\n",
            "INFO:tensorflow:global_step/sec: 480.055\n",
            "INFO:tensorflow:loss = 0.8779646, step = 900 (0.208 sec)\n",
            "INFO:tensorflow:global_step/sec: 443.973\n",
            "INFO:tensorflow:loss = 0.86501, step = 1000 (0.223 sec)\n",
            "INFO:tensorflow:global_step/sec: 505.918\n",
            "INFO:tensorflow:loss = 0.84823847, step = 1100 (0.200 sec)\n",
            "INFO:tensorflow:global_step/sec: 544.917\n",
            "INFO:tensorflow:loss = 0.83341295, step = 1200 (0.183 sec)\n",
            "INFO:tensorflow:global_step/sec: 534.782\n",
            "INFO:tensorflow:loss = 0.8253766, step = 1300 (0.187 sec)\n",
            "INFO:tensorflow:global_step/sec: 544.827\n",
            "INFO:tensorflow:loss = 0.7996964, step = 1400 (0.184 sec)\n",
            "INFO:tensorflow:global_step/sec: 650.597\n",
            "INFO:tensorflow:loss = 0.7932962, step = 1500 (0.153 sec)\n",
            "INFO:tensorflow:global_step/sec: 652.315\n",
            "INFO:tensorflow:loss = 0.8004811, step = 1600 (0.153 sec)\n",
            "INFO:tensorflow:global_step/sec: 587.359\n",
            "INFO:tensorflow:loss = 0.7797719, step = 1700 (0.169 sec)\n",
            "INFO:tensorflow:global_step/sec: 660.61\n",
            "INFO:tensorflow:loss = 0.7630203, step = 1800 (0.152 sec)\n",
            "INFO:tensorflow:global_step/sec: 601.412\n",
            "INFO:tensorflow:loss = 0.74320686, step = 1900 (0.169 sec)\n",
            "INFO:tensorflow:global_step/sec: 602.653\n",
            "INFO:tensorflow:loss = 0.75252855, step = 2000 (0.163 sec)\n",
            "INFO:tensorflow:global_step/sec: 564.646\n",
            "INFO:tensorflow:loss = 0.7265605, step = 2100 (0.179 sec)\n",
            "INFO:tensorflow:global_step/sec: 602.353\n",
            "INFO:tensorflow:loss = 0.7394152, step = 2200 (0.164 sec)\n",
            "INFO:tensorflow:global_step/sec: 512.598\n",
            "INFO:tensorflow:loss = 0.72518873, step = 2300 (0.197 sec)\n",
            "INFO:tensorflow:global_step/sec: 472.616\n",
            "INFO:tensorflow:loss = 0.714746, step = 2400 (0.209 sec)\n",
            "INFO:tensorflow:global_step/sec: 508.517\n",
            "INFO:tensorflow:loss = 0.6822982, step = 2500 (0.200 sec)\n",
            "INFO:tensorflow:global_step/sec: 470.65\n",
            "INFO:tensorflow:loss = 0.69026107, step = 2600 (0.212 sec)\n",
            "INFO:tensorflow:global_step/sec: 407.116\n",
            "INFO:tensorflow:loss = 0.68390167, step = 2700 (0.242 sec)\n",
            "INFO:tensorflow:global_step/sec: 486.934\n",
            "INFO:tensorflow:loss = 0.65607643, step = 2800 (0.207 sec)\n",
            "INFO:tensorflow:global_step/sec: 488.691\n",
            "INFO:tensorflow:loss = 0.6719644, step = 2900 (0.204 sec)\n",
            "INFO:tensorflow:global_step/sec: 544.044\n",
            "INFO:tensorflow:loss = 0.6606085, step = 3000 (0.184 sec)\n",
            "INFO:tensorflow:global_step/sec: 585.373\n",
            "INFO:tensorflow:loss = 0.6470076, step = 3100 (0.170 sec)\n",
            "INFO:tensorflow:global_step/sec: 509.477\n",
            "INFO:tensorflow:loss = 0.6501047, step = 3200 (0.196 sec)\n",
            "INFO:tensorflow:global_step/sec: 553.37\n",
            "INFO:tensorflow:loss = 0.6424689, step = 3300 (0.185 sec)\n",
            "INFO:tensorflow:global_step/sec: 597.278\n",
            "INFO:tensorflow:loss = 0.6224407, step = 3400 (0.163 sec)\n",
            "INFO:tensorflow:global_step/sec: 572.525\n",
            "INFO:tensorflow:loss = 0.61749643, step = 3500 (0.175 sec)\n",
            "INFO:tensorflow:global_step/sec: 516.675\n",
            "INFO:tensorflow:loss = 0.62326723, step = 3600 (0.195 sec)\n",
            "INFO:tensorflow:global_step/sec: 463.625\n",
            "INFO:tensorflow:loss = 0.60796, step = 3700 (0.218 sec)\n",
            "INFO:tensorflow:global_step/sec: 521.482\n",
            "INFO:tensorflow:loss = 0.6222046, step = 3800 (0.189 sec)\n",
            "INFO:tensorflow:global_step/sec: 513.722\n",
            "INFO:tensorflow:loss = 0.6090996, step = 3900 (0.194 sec)\n",
            "INFO:tensorflow:global_step/sec: 580.688\n",
            "INFO:tensorflow:loss = 0.59307504, step = 4000 (0.174 sec)\n",
            "INFO:tensorflow:global_step/sec: 600.686\n",
            "INFO:tensorflow:loss = 0.591925, step = 4100 (0.170 sec)\n",
            "INFO:tensorflow:global_step/sec: 508.688\n",
            "INFO:tensorflow:loss = 0.59205604, step = 4200 (0.191 sec)\n",
            "INFO:tensorflow:global_step/sec: 631.786\n",
            "INFO:tensorflow:loss = 0.5963069, step = 4300 (0.158 sec)\n",
            "INFO:tensorflow:global_step/sec: 551.393\n",
            "INFO:tensorflow:loss = 0.5782606, step = 4400 (0.184 sec)\n",
            "INFO:tensorflow:global_step/sec: 512.32\n",
            "INFO:tensorflow:loss = 0.5758049, step = 4500 (0.195 sec)\n",
            "INFO:tensorflow:global_step/sec: 514.553\n",
            "INFO:tensorflow:loss = 0.55268264, step = 4600 (0.191 sec)\n",
            "INFO:tensorflow:global_step/sec: 562.898\n",
            "INFO:tensorflow:loss = 0.5734023, step = 4700 (0.179 sec)\n",
            "INFO:tensorflow:global_step/sec: 623.718\n",
            "INFO:tensorflow:loss = 0.56519717, step = 4800 (0.162 sec)\n",
            "INFO:tensorflow:global_step/sec: 577.86\n",
            "INFO:tensorflow:loss = 0.5457605, step = 4900 (0.173 sec)\n",
            "INFO:tensorflow:Calling checkpoint listeners before saving checkpoint 5000...\n",
            "INFO:tensorflow:Saving checkpoints for 5000 into /tmp/tmpgn0l4gaw/model.ckpt.\n",
            "INFO:tensorflow:Calling checkpoint listeners after saving checkpoint 5000...\n",
            "INFO:tensorflow:Loss for final step: 0.5532038.\n"
          ],
          "name": "stdout"
        },
        {
          "output_type": "execute_result",
          "data": {
            "text/plain": [
              "<tensorflow_estimator.python.estimator.canned.dnn.DNNClassifierV2 at 0x7f5452c43c88>"
            ]
          },
          "metadata": {
            "tags": []
          },
          "execution_count": 3
        }
      ]
    },
    {
      "cell_type": "code",
      "metadata": {
        "id": "0Ectw30jw0sS",
        "colab_type": "code",
        "colab": {
          "base_uri": "https://localhost:8080/",
          "height": 373
        },
        "outputId": "3ecc6379-7d1b-46d3-b6fd-cb44add2b7dc"
      },
      "source": [
        "# Test the Model:\n",
        "# ===============\n",
        "eval_result = classifier.evaluate(input_fn=lambda: input_fn(test, test_y, training=False))\n",
        "print('\\nTest set accuracy: {accuracy:0.3f}\\n'.format(**eval_result))\n"
      ],
      "execution_count": 4,
      "outputs": [
        {
          "output_type": "stream",
          "text": [
            "INFO:tensorflow:Calling model_fn.\n",
            "WARNING:tensorflow:Layer dnn is casting an input tensor from dtype float64 to the layer's dtype of float32, which is new behavior in TensorFlow 2.  The layer has dtype float32 because it's dtype defaults to floatx.\n",
            "\n",
            "If you intended to run this layer in float32, you can safely ignore this warning. If in doubt, this warning is likely only an issue if you are porting a TensorFlow 1.X model to TensorFlow 2.\n",
            "\n",
            "To change all layers to have dtype float64 by default, call `tf.keras.backend.set_floatx('float64')`. To change just this layer, pass dtype='float64' to the layer constructor. If you are the author of this layer, you can disable autocasting by passing autocast=False to the base Layer constructor.\n",
            "\n",
            "INFO:tensorflow:Done calling model_fn.\n",
            "INFO:tensorflow:Starting evaluation at 2020-06-07T13:06:01Z\n",
            "INFO:tensorflow:Graph was finalized.\n",
            "INFO:tensorflow:Restoring parameters from /tmp/tmpgn0l4gaw/model.ckpt-5000\n",
            "INFO:tensorflow:Running local_init_op.\n",
            "INFO:tensorflow:Done running local_init_op.\n",
            "INFO:tensorflow:Inference Time : 0.42763s\n",
            "INFO:tensorflow:Finished evaluation at 2020-06-07-13:06:01\n",
            "INFO:tensorflow:Saving dict for global step 5000: accuracy = 0.8333333, average_loss = 0.62885654, global_step = 5000, loss = 0.62885654\n",
            "INFO:tensorflow:Saving 'checkpoint_path' summary for global step 5000: /tmp/tmpgn0l4gaw/model.ckpt-5000\n",
            "\n",
            "Test set accuracy: 0.833\n",
            "\n"
          ],
          "name": "stdout"
        }
      ]
    },
    {
      "cell_type": "code",
      "metadata": {
        "id": "1V8wlxNT401T",
        "colab_type": "code",
        "colab": {
          "base_uri": "https://localhost:8080/",
          "height": 255
        },
        "outputId": "8a018ed5-41fc-4910-9d07-b0715a2be2da"
      },
      "source": [
        "# Predictions:\n",
        "# ============\n",
        "\n",
        "def input_fn(features, batch_size=256):\n",
        "  # convert input to a dataset without labels\n",
        "  return tf.data.Dataset.from_tensor_slices(dict(features)).batch(batch_size)\n",
        "\n",
        "features = ['SepalLength', 'SepalWidth', 'PetalLength', 'PetalWidth']\n",
        "predict = {}\n",
        "\n",
        "print(\"Please type numeric values as prompted.\")\n",
        "for feature in features:\n",
        "  valid = True\n",
        "  while valid:\n",
        "    val = input(feature + \": \")\n",
        "    if not val.isdigit(): valid = False\n",
        "  predict[feature] = [float(val)]\n",
        "\n",
        "predictions = classifier.predict(input_fn=lambda: input_fn(predict))\n",
        "for pred_dict in predictions:\n",
        "  print(pred_dict)\n",
        "  class_id = pred_dict['class_ids'][0]\n",
        "  probability = pred_dict['probabilities'][class_id]\n",
        "  print('Prediction is \"{}\" ({:.1f}%)'.format(\n",
        "      SPECIES[class_id], 100 * probability)) "
      ],
      "execution_count": 8,
      "outputs": [
        {
          "output_type": "stream",
          "text": [
            "Please type numeric values as prompted.\n",
            "SepalLength: 5.9\n",
            "SepalWidth: 3.0\n",
            "PetalLength: 4.2\n",
            "PetalWidth: 1.5\n",
            "INFO:tensorflow:Calling model_fn.\n",
            "INFO:tensorflow:Done calling model_fn.\n",
            "INFO:tensorflow:Graph was finalized.\n",
            "INFO:tensorflow:Restoring parameters from /tmp/tmpgn0l4gaw/model.ckpt-5000\n",
            "INFO:tensorflow:Running local_init_op.\n",
            "INFO:tensorflow:Done running local_init_op.\n",
            "{'logits': array([0.54742265, 1.2885664 , 1.4733918 ], dtype=float32), 'probabilities': array([0.17785215, 0.37319323, 0.44895458], dtype=float32), 'class_ids': array([2]), 'classes': array([b'2'], dtype=object), 'all_class_ids': array([0, 1, 2], dtype=int32), 'all_classes': array([b'0', b'1', b'2'], dtype=object)}\n",
            "Prediction is \"Virginica\" (44.9%)\n"
          ],
          "name": "stdout"
        }
      ]
    },
    {
      "cell_type": "code",
      "metadata": {
        "id": "uPYz5nksCSJ3",
        "colab_type": "code",
        "colab": {}
      },
      "source": [
        "# Here is some example input and expected classes you can try above\n",
        "expected = ['Setosa', 'Versicolor', 'Virginica']\n",
        "predict_x = {\n",
        "    'SepalLength': [5.1, 5.9, 6.9],\n",
        "    'SepalWidth': [3.3, 3.0, 3.1],\n",
        "    'PetalLength': [1.7, 4.2, 5.4],\n",
        "    'PetalWidth': [0.5, 1.5, 2.1],\n",
        "}"
      ],
      "execution_count": 0,
      "outputs": []
    }
  ]
}